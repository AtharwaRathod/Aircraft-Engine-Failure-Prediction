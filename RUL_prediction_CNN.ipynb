{
 "cells": [
  {
   "cell_type": "code",
   "execution_count": 1,
   "metadata": {},
   "outputs": [],
   "source": [
    "import pandas as pd\n",
    "import numpy as np\n",
    "import matplotlib.pyplot as plt\n",
    "import seaborn as sns\n",
    "import pickle\n",
    "from sklearn.model_selection import train_test_split\n",
    "from sklearn.ensemble import RandomForestRegressor\n",
    "from sklearn.metrics import mean_squared_error"
   ]
  },
  {
   "cell_type": "code",
   "execution_count": 2,
   "metadata": {},
   "outputs": [
    {
     "name": "stdout",
     "output_type": "stream",
     "text": [
      "Processed train_FD001.txt, number of rows: 20631\n",
      "Processed train_FD002.txt, number of rows: 53759\n",
      "Processed train_FD003.txt, number of rows: 24720\n",
      "Processed train_FD004.txt, number of rows: 61249\n"
     ]
    }
   ],
   "source": [
    "columns = ['unit_number','time_in_cycles','setting_1','setting_2','TRA','T2','T24','T30','T50','P2','P15','P30','Nf',\n",
    "           'Nc','epr','Ps30','phi','NRf','NRc','BPR','farB','htBleed','Nf_dmd','PCNfR_dmd','W31','W32' ]\n",
    "\n",
    "train_data_processed = []\n",
    "for idx in range(1, 5):\n",
    "    train_data = pd.read_csv(rf\"train_FD00{idx}.txt\",sep=\" \",header=None)\n",
    "    train_data.drop(columns=[26,27],inplace=True)\n",
    "\n",
    "    train_data.columns = columns\n",
    "    train_data.drop(columns=['Nf_dmd','PCNfR_dmd','P2','T2','TRA','farB','epr'],inplace=True)\n",
    "    train_data['RUL'] =  train_data['time_in_cycles'] / train_data.groupby('unit_number')['time_in_cycles'].transform('max') \n",
    "\n",
    "    # train_data.drop(columns=['unit_number', 'setting_1', 'setting_2'],inplace=True)\n",
    "\n",
    "    train_data_processed.append(train_data)\n",
    "    print(f\"Processed train_FD00{idx}.txt, number of rows: {train_data.shape[0]}\")\n",
    "train_data_processed = pd.concat(train_data_processed, ignore_index=True)"
   ]
  },
  {
   "cell_type": "code",
   "execution_count": 3,
   "metadata": {},
   "outputs": [
    {
     "name": "stdout",
     "output_type": "stream",
     "text": [
      "Processed test_FD001.txt, number of rows: 13096\n",
      "Processed test_FD002.txt, number of rows: 33991\n",
      "Processed test_FD003.txt, number of rows: 16596\n",
      "Processed test_FD004.txt, number of rows: 41214\n"
     ]
    }
   ],
   "source": [
    "test_data_processed = []\n",
    "\n",
    "for idx in range(1,5):\n",
    "\n",
    "    test_data_rul = pd.read_csv(rf\"RUL_FD00{idx}.txt\",sep=\" \",header=None)\n",
    "    test_data = pd.read_csv(rf\"test_FD00{idx}.txt\",sep=\" \",header=None)\n",
    "\n",
    "\n",
    "    test_data.drop(columns=[26,27],inplace=True)\n",
    "    columns = ['unit_number','time_in_cycles','setting_1','setting_2','TRA','T2','T24','T30','T50','P2','P15','P30','Nf',\n",
    "            'Nc','epr','Ps30','phi','NRf','NRc','BPR','farB','htBleed','Nf_dmd','PCNfR_dmd','W31','W32' ]\n",
    "\n",
    "    test_data.columns = columns\n",
    "    test_data.drop(columns=['Nf_dmd','PCNfR_dmd','P2','T2','TRA','farB','epr'],inplace=True)\n",
    "\n",
    "    eol = []\n",
    "    for un in test_data['unit_number'].unique():\n",
    "        temp_data = test_data[test_data['unit_number'] == un]\n",
    "        eol_temp = test_data_rul.iloc[un-1].values[0]\n",
    "        eol_temp_list = [eol_temp for i in range(len(temp_data))]\n",
    "\n",
    "        eol.extend(eol_temp_list)\n",
    "\n",
    "\n",
    "    test_data['RUL'] = test_data['time_in_cycles'].values / (test_data.groupby('unit_number')['time_in_cycles'].transform('max').values + eol)  \n",
    "    # test_data.drop(columns=['unit_number', 'setting_1', 'setting_2'],inplace=True)\n",
    "\n",
    "    test_data_processed.append(test_data)\n",
    "\n",
    "    print(f\"Processed test_FD00{idx}.txt, number of rows: {test_data.shape[0]}\")\n",
    "test_data_processed = pd.concat(test_data_processed, ignore_index=True)\n"
   ]
  },
  {
   "cell_type": "code",
   "execution_count": 4,
   "metadata": {},
   "outputs": [],
   "source": [
    "import torch\n",
    "import torch.nn as nn\n",
    "import torch.optim as optim\n",
    "from torch.utils.data import Dataset, DataLoader\n",
    "# Set device\n",
    "device = torch.device(\"cuda\" if torch.cuda.is_available() else \"cpu\")"
   ]
  },
  {
   "cell_type": "code",
   "execution_count": 5,
   "metadata": {},
   "outputs": [],
   "source": [
    "# 1. Dataset class\n",
    "class RULDataset(Dataset):\n",
    "    def __init__(self, X, y):\n",
    "        self.X = X\n",
    "        self.y = y\n",
    "\n",
    "    def __len__(self):\n",
    "        return len(self.X)\n",
    "\n",
    "    def __getitem__(self, idx):\n",
    "        return torch.tensor(self.X[idx], dtype=torch.float32), torch.tensor(self.y[idx], dtype=torch.float32)\n",
    "\n",
    "# 2. Neural Network model\n",
    "class RULCNN2D(nn.Module):\n",
    "    def __init__(self):\n",
    "        super(RULCNN2D, self).__init__()\n",
    "\n",
    "        self.cnn = nn.Sequential(\n",
    "            nn.Conv2d(in_channels=1, out_channels=64, kernel_size=(3,3), padding=1),\n",
    "            nn.BatchNorm2d(64),\n",
    "            nn.LeakyReLU(),\n",
    "\n",
    "            nn.Conv2d(64, 64, kernel_size=(3,3), padding=1),\n",
    "            nn.BatchNorm2d(64),\n",
    "            nn.LeakyReLU(),\n",
    "\n",
    "            nn.Conv2d(64, 64, kernel_size=(3,3), padding=1),\n",
    "            nn.BatchNorm2d(64),\n",
    "            nn.LeakyReLU(),\n",
    "\n",
    "            nn.AdaptiveAvgPool2d((1, 1))  # Output: (B, 64, 1, 1)\n",
    "        )\n",
    "\n",
    "        self.regressor = nn.Sequential(\n",
    "            nn.Flatten(),        # (B, 64)\n",
    "            nn.Linear(64,64),\n",
    "            nn.LeakyReLU(),\n",
    "            nn.Linear(64, 1)\n",
    "        )\n",
    "\n",
    "    def forward(self, x):\n",
    "        # x: (B, 10, 17)\n",
    "        x = x.unsqueeze(1)       # → (B, 1, 10, 17)\n",
    "        x = self.cnn(x)          # → (B, 64, 1, 1)\n",
    "        x = self.regressor(x)    # → (B, 1)\n",
    "        return x\n",
    "    \n",
    "class RULLSTMModel(nn.Module):\n",
    "    def __init__(self, input_size, hidden_size=64, num_layers=2):\n",
    "        super(RULLSTMModel, self).__init__()\n",
    "        self.lstm = nn.LSTM(\n",
    "            input_size=input_size,\n",
    "            hidden_size=hidden_size,\n",
    "            num_layers=num_layers,\n",
    "            batch_first=True,\n",
    "            dropout=0.2\n",
    "        )\n",
    "        self.bn = nn.BatchNorm1d(hidden_size)\n",
    "        self.fc = nn.Sequential(\n",
    "            nn.Linear(hidden_size, 64),\n",
    "            nn.ReLU(),\n",
    "            nn.BatchNorm1d(64),\n",
    "            nn.Linear(64, 1)\n",
    "        )\n",
    "\n",
    "    def forward(self, x, h0=None, c0=None):  # x: [B, Seq, Features]\n",
    "        out, (hn, cn) = self.lstm(x)\n",
    "        out = self.fc(out[:, -1, :])  # [B, 1]\n",
    "        return out\n"
   ]
  },
  {
   "cell_type": "code",
   "execution_count": 6,
   "metadata": {},
   "outputs": [
    {
     "name": "stderr",
     "output_type": "stream",
     "text": [
      "C:\\Users\\user\\AppData\\Local\\Temp\\ipykernel_20996\\1275619669.py:6: FutureWarning: Setting an item of incompatible dtype is deprecated and will raise in a future error of pandas. Value '[-1.43485552 -1.43485552 -1.43485552 ...  1.96860101  1.96860101\n",
      "  1.96860101]' has dtype incompatible with int64, please explicitly cast to a compatible dtype first.\n",
      "  train_data_processed.loc[:, features.columns] = scaled_features\n",
      "C:\\Users\\user\\AppData\\Local\\Temp\\ipykernel_20996\\1275619669.py:6: FutureWarning: Setting an item of incompatible dtype is deprecated and will raise in a future error of pandas. Value '[-1.46438155 -1.45241094 -1.44044032 ...  1.55221385  1.56418447\n",
      "  1.57615508]' has dtype incompatible with int64, please explicitly cast to a compatible dtype first.\n",
      "  train_data_processed.loc[:, features.columns] = scaled_features\n",
      "C:\\Users\\user\\AppData\\Local\\Temp\\ipykernel_20996\\1275619669.py:6: FutureWarning: Setting an item of incompatible dtype is deprecated and will raise in a future error of pandas. Value '[ 1.00902172  1.00902172  0.94454996 ...  1.10572936 -0.76395171\n",
      " -0.89289524]' has dtype incompatible with int64, please explicitly cast to a compatible dtype first.\n",
      "  train_data_processed.loc[:, features.columns] = scaled_features\n",
      "C:\\Users\\user\\AppData\\Local\\Temp\\ipykernel_20996\\1275619669.py:11: FutureWarning: Setting an item of incompatible dtype is deprecated and will raise in a future error of pandas. Value '[-1.43485552 -1.43485552 -1.43485552 ...  1.9548774   1.9548774\n",
      "  1.9548774 ]' has dtype incompatible with int64, please explicitly cast to a compatible dtype first.\n",
      "  test_data_processed.loc[:, test_features.columns] = test_scaled_features\n",
      "C:\\Users\\user\\AppData\\Local\\Temp\\ipykernel_20996\\1275619669.py:11: FutureWarning: Setting an item of incompatible dtype is deprecated and will raise in a future error of pandas. Value '[-1.46438155 -1.45241094 -1.44044032 ...  1.86344988  1.8754205\n",
      "  1.88739112]' has dtype incompatible with int64, please explicitly cast to a compatible dtype first.\n",
      "  test_data_processed.loc[:, test_features.columns] = test_scaled_features\n",
      "C:\\Users\\user\\AppData\\Local\\Temp\\ipykernel_20996\\1275619669.py:11: FutureWarning: Setting an item of incompatible dtype is deprecated and will raise in a future error of pandas. Value '[ 1.00902172  1.0412576   1.0412576  ... -0.79618759  0.17088882\n",
      " -0.82842348]' has dtype incompatible with int64, please explicitly cast to a compatible dtype first.\n",
      "  test_data_processed.loc[:, test_features.columns] = test_scaled_features\n"
     ]
    }
   ],
   "source": [
    "# Normalize the features\n",
    "from sklearn.preprocessing import StandardScaler\n",
    "scaler = StandardScaler()\n",
    "features = train_data_processed.drop(columns=['RUL'])\n",
    "scaled_features = scaler.fit_transform(features)\n",
    "train_data_processed.loc[:, features.columns] = scaled_features\n",
    "\n",
    "# Normalize test data using the same scaler\n",
    "test_features = test_data_processed.drop(columns=['RUL'])\n",
    "test_scaled_features = scaler.transform(test_features)\n",
    "test_data_processed.loc[:, test_features.columns] = test_scaled_features"
   ]
  },
  {
   "cell_type": "code",
   "execution_count": 7,
   "metadata": {},
   "outputs": [
    {
     "name": "stderr",
     "output_type": "stream",
     "text": [
      "                                                 "
     ]
    }
   ],
   "source": [
    "from tqdm import tqdm\n",
    "\n",
    "win_len=10\n",
    "\n",
    "X_train = []\n",
    "y_train = []\n",
    "\n",
    "for unit_number in tqdm(train_data_processed['unit_number'].unique(),leave=False):\n",
    "\n",
    "    unit_data = train_data_processed[train_data_processed['unit_number'] == unit_number]\n",
    "  \n",
    "    for i in range(0, len(unit_data)-win_len+1):\n",
    "        temp = unit_data.iloc[i:i+win_len]\n",
    "        x_temp = temp.drop(columns=['unit_number','RUL'])\n",
    "        y_temp = temp['RUL'].values[-1]\n",
    "        X_train.append(x_temp.values)\n",
    "        y_train.append(y_temp)\n",
    "\n",
    "X_test = []\n",
    "y_test = []\n",
    "\n",
    "for unit_number in tqdm(test_data_processed['unit_number'].unique(),leave=False):\n",
    "\n",
    "    unit_data = test_data_processed[test_data_processed['unit_number'] == unit_number]\n",
    "  \n",
    "    for i in range(0, len(unit_data)-win_len+1):\n",
    "        temp = unit_data.iloc[i:i+win_len]\n",
    "        x_temp = temp.drop(columns=['unit_number','RUL'])\n",
    "        y_temp = temp['RUL'].values[-1]\n",
    "        X_test.append(x_temp.values)\n",
    "        y_test.append(y_temp)"
   ]
  },
  {
   "cell_type": "code",
   "execution_count": 8,
   "metadata": {},
   "outputs": [],
   "source": [
    "# 4. Dataset & Dataloader\n",
    "dataset = RULDataset(X_train,y_train)\n",
    "dataloader = DataLoader(dataset, batch_size=16, shuffle=True)\n",
    "\n",
    "# Create TEST Dataset and DataLoader\n",
    "test_dataset = RULDataset(X_test, y_test)\n",
    "test_loader = DataLoader(test_dataset, batch_size=16, shuffle=False)\n",
    "\n",
    "win_len = 10 # Number of time steps to consider for each sample\n",
    "# 5. Training Setup\n",
    "model = RULCNN2D().to(device)\n",
    "# model = RULLSTMModel(input_size=17).to(device)\n",
    "\n",
    "criterion = nn.MSELoss()\n",
    "optimizer = optim.AdamW(model.parameters(), lr=1e-3)\n",
    "\n",
    "def evaluate_model(model, test_loader):\n",
    "    # 3. Run inference\n",
    "    model.eval()\n",
    "    all_preds = []\n",
    "    all_targets = []\n",
    "\n",
    "    with torch.no_grad():\n",
    "        for X_batch, y_batch in test_loader:\n",
    "            X_batch = X_batch.to(device)\n",
    "            outputs = model(X_batch)\n",
    "            all_preds.append(outputs.cpu().numpy())\n",
    "            all_targets.append(y_batch.cpu().numpy().reshape(-1, 1))\n",
    " \n",
    "    # 4. Calculate MSE\n",
    "    preds = np.vstack(all_preds)\n",
    "    targets = np.vstack(all_targets)\n",
    "    mse = mean_squared_error(targets, preds)\n",
    "    return mse"
   ]
  },
  {
   "cell_type": "code",
   "execution_count": 9,
   "metadata": {},
   "outputs": [
    {
     "name": "stdout",
     "output_type": "stream",
     "text": [
      "Epoch [1/20], Loss: 0.0099, Test MSE: 0.0071\n",
      "Epoch [2/20], Loss: 0.0058, Test MSE: 0.0060\n",
      "Epoch [3/20], Loss: 0.0054, Test MSE: 0.0062\n",
      "Epoch [4/20], Loss: 0.0051, Test MSE: 0.0066\n",
      "Epoch [5/20], Loss: 0.0049, Test MSE: 0.0058\n",
      "Epoch [6/20], Loss: 0.0048, Test MSE: 0.0055\n",
      "Epoch [7/20], Loss: 0.0047, Test MSE: 0.0056\n",
      "Epoch [8/20], Loss: 0.0046, Test MSE: 0.0056\n",
      "Epoch [9/20], Loss: 0.0045, Test MSE: 0.0054\n",
      "Epoch [10/20], Loss: 0.0045, Test MSE: 0.0057\n",
      "Epoch [11/20], Loss: 0.0044, Test MSE: 0.0055\n",
      "Epoch [12/20], Loss: 0.0043, Test MSE: 0.0061\n",
      "Epoch [13/20], Loss: 0.0043, Test MSE: 0.0060\n",
      "Epoch [14/20], Loss: 0.0043, Test MSE: 0.0061\n",
      "Epoch [15/20], Loss: 0.0042, Test MSE: 0.0054\n",
      "Epoch [16/20], Loss: 0.0042, Test MSE: 0.0056\n",
      "Epoch [17/20], Loss: 0.0041, Test MSE: 0.0054\n",
      "Epoch [18/20], Loss: 0.0041, Test MSE: 0.0054\n",
      "Epoch [19/20], Loss: 0.0041, Test MSE: 0.0054\n",
      "Epoch [20/20], Loss: 0.0040, Test MSE: 0.0065\n"
     ]
    }
   ],
   "source": [
    "# 6. Training Loop\n",
    "epochs = 20\n",
    "for epoch in range(epochs):\n",
    "    model.train()\n",
    "    running_loss = 0.0\n",
    "    for X_batch, y_batch in dataloader:\n",
    "        X_batch, y_batch = X_batch.to(device), y_batch.to(device)\n",
    "\n",
    "        # Forward pass\n",
    "\n",
    "        optimizer.zero_grad()\n",
    "        outputs = model(X_batch) \n",
    "        loss = criterion(outputs, y_batch.view(-1, 1))  # Reshape y_batch to match output shape (B, 1)\n",
    "        loss.backward()\n",
    "        optimizer.step()\n",
    "\n",
    "        running_loss += loss.item()\n",
    "\n",
    "    print(f\"Epoch [{epoch+1}/{epochs}], Loss: {running_loss/len(dataloader):.4f}, Test MSE: {evaluate_model(model, test_loader):.4f}\")"
   ]
  },
  {
   "cell_type": "code",
   "execution_count": 10,
   "metadata": {},
   "outputs": [],
   "source": [
    "for X_batch, y_batch in dataloader:\n",
    "    X_batch, y_batch = X_batch.to(device), y_batch.to(device)\n",
    "    break"
   ]
  },
  {
   "cell_type": "code",
   "execution_count": 11,
   "metadata": {},
   "outputs": [
    {
     "data": {
      "text/plain": [
       "torch.Size([16, 10, 18])"
      ]
     },
     "execution_count": 11,
     "metadata": {},
     "output_type": "execute_result"
    }
   ],
   "source": [
    "X_batch.shape"
   ]
  },
  {
   "cell_type": "code",
   "execution_count": 18,
   "metadata": {},
   "outputs": [
    {
     "name": "stdout",
     "output_type": "stream",
     "text": [
      "\n",
      "--- Final CNN Model Performance ---\n",
      "RMSE (Error):   0.0804\n",
      "MAE (Error):    0.0603\n",
      "R-squared (Fit): 0.8834\n",
      "\n"
     ]
    }
   ],
   "source": [
    "import numpy as np\n",
    "from sklearn.metrics import mean_squared_error, mean_absolute_error, r2_score\n",
    "import time\n",
    "import os\n",
    "\n",
    "# --- 1. FINAL MODEL EVALUATION ---\n",
    "# Make sure to load the best model if you saved it during training\n",
    "# model.load_state_dict(torch.load(\"best_cnn_model.pth\")) \n",
    "\n",
    "# Set the model to evaluation mode\n",
    "model.eval()\n",
    "\n",
    "y_true_list = []\n",
    "y_pred_list = []\n",
    "\n",
    "# Use the test_loader which has the properly scaled and windowed data\n",
    "with torch.no_grad():\n",
    "    for X_batch, y_batch in test_loader:\n",
    "        X_batch = X_batch.to(device)\n",
    "        \n",
    "        # Make predictions\n",
    "        predictions = model(X_batch)\n",
    "        \n",
    "        # Move results back to the CPU and convert to NumPy arrays to store them\n",
    "        y_true_list.append(y_batch.cpu().numpy())\n",
    "        y_pred_list.append(predictions.cpu().numpy())\n",
    "\n",
    "# Combine the results from all batches into single NumPy arrays\n",
    "y_true = np.concatenate(y_true_list).flatten()\n",
    "y_pred = np.concatenate(y_pred_list).flatten()\n",
    "\n",
    "# --- 2. CALCULATE AND PRINT PERFORMANCE METRICS ---\n",
    "\n",
    "# Calculate the performance metrics\n",
    "rmse = np.sqrt(mean_squared_error(y_true, y_pred))\n",
    "mae = mean_absolute_error(y_true, y_pred)\n",
    "r2 = r2_score(y_true, y_pred)\n",
    "\n",
    "print(\"\\n--- Final CNN Model Performance ---\")\n",
    "print(f\"RMSE (Error):   {rmse:.4f}\")\n",
    "print(f\"MAE (Error):    {mae:.4f}\")\n",
    "print(f\"R-squared (Fit): {r2:.4f}\\n\")"
   ]
  },
  {
   "cell_type": "code",
   "execution_count": null,
   "metadata": {},
   "outputs": [],
   "source": []
  }
 ],
 "metadata": {
  "kernelspec": {
   "display_name": "Python [conda env:base] *",
   "language": "python",
   "name": "conda-base-py"
  },
  "language_info": {
   "codemirror_mode": {
    "name": "ipython",
    "version": 3
   },
   "file_extension": ".py",
   "mimetype": "text/x-python",
   "name": "python",
   "nbconvert_exporter": "python",
   "pygments_lexer": "ipython3",
   "version": "3.13.5"
  }
 },
 "nbformat": 4,
 "nbformat_minor": 4
}
